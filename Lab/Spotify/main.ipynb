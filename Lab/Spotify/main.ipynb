{
 "cells": [
  {
   "cell_type": "code",
   "execution_count": 1,
   "metadata": {},
   "outputs": [],
   "source": [
    "import pandas as pd\n",
    "import numpy as np\n",
    "import spotipy\n",
    "from spotipy.oauth2 import SpotifyOAuth\n"
   ]
  },
  {
   "cell_type": "code",
   "execution_count": 2,
   "metadata": {},
   "outputs": [],
   "source": [
    "client_id = '738cf140457540f592cddc50c06b7a26'\n",
    "client_secret = 'bd94d538044f47d4bea8239792d83ebf'\n",
    "redirect_uri = 'http://localhost:8000/callback'"
   ]
  },
  {
   "cell_type": "code",
   "execution_count": 3,
   "metadata": {},
   "outputs": [],
   "source": [
    "client_credentials_manager = SpotifyOAuth(client_id=client_id, client_secret=client_secret,redirect_uri=redirect_uri, scope=['user-library-read'])\n",
    "sp = spotipy.Spotify(client_credentials_manager=client_credentials_manager)"
   ]
  },
  {
   "cell_type": "code",
   "execution_count": 24,
   "metadata": {},
   "outputs": [
    {
     "data": {
      "text/plain": [
       "<spotipy.client.Spotify at 0x7feb213d3e20>"
      ]
     },
     "execution_count": 24,
     "metadata": {},
     "output_type": "execute_result"
    }
   ],
   "source": [
    "sp"
   ]
  },
  {
   "cell_type": "code",
   "execution_count": 13,
   "metadata": {},
   "outputs": [],
   "source": [
    "artist_name = []\n",
    "track_name = []\n",
    "track_popularity = []\n",
    "artist_id = []\n",
    "track_id = []\n",
    "for i in range(0,50):\n",
    "    track_results = sp.search(q='year:2021', type='track', limit=50,offset=i)\n",
    "    for i, t in enumerate(track_results['tracks']['items']):\n",
    "        artist_name.append(t['artists'][0]['name'])\n",
    "        artist_id.append(t['artists'][0]['id'])\n",
    "        track_name.append(t['name'])\n",
    "        track_id.append(t['id'])\n",
    "        track_popularity.append(t['popularity'])"
   ]
  },
  {
   "cell_type": "code",
   "execution_count": 14,
   "metadata": {},
   "outputs": [],
   "source": [
    "track_df = pd.DataFrame({'artist_name' : artist_name, 'track_name' : track_name, 'track_id' : track_id, 'track_popularity' : track_popularity, 'artist_id' : artist_id})"
   ]
  },
  {
   "cell_type": "code",
   "execution_count": 17,
   "metadata": {},
   "outputs": [
    {
     "data": {
      "text/html": [
       "<div>\n",
       "<style scoped>\n",
       "    .dataframe tbody tr th:only-of-type {\n",
       "        vertical-align: middle;\n",
       "    }\n",
       "\n",
       "    .dataframe tbody tr th {\n",
       "        vertical-align: top;\n",
       "    }\n",
       "\n",
       "    .dataframe thead th {\n",
       "        text-align: right;\n",
       "    }\n",
       "</style>\n",
       "<table border=\"1\" class=\"dataframe\">\n",
       "  <thead>\n",
       "    <tr style=\"text-align: right;\">\n",
       "      <th></th>\n",
       "      <th>artist_name</th>\n",
       "      <th>track_name</th>\n",
       "      <th>track_id</th>\n",
       "      <th>track_popularity</th>\n",
       "      <th>artist_id</th>\n",
       "    </tr>\n",
       "  </thead>\n",
       "  <tbody>\n",
       "    <tr>\n",
       "      <th>2499</th>\n",
       "      <td>Jason Aldean</td>\n",
       "      <td>That's What Tequila Does</td>\n",
       "      <td>6kCFt2ATuMIE5H9zVEJXei</td>\n",
       "      <td>68</td>\n",
       "      <td>3FfvYsEGaIb52QPXhg4DcH</td>\n",
       "    </tr>\n",
       "    <tr>\n",
       "      <th>1398</th>\n",
       "      <td>AJR</td>\n",
       "      <td>Bang!</td>\n",
       "      <td>5FQPpxOXsvkMN6v18gtpwY</td>\n",
       "      <td>68</td>\n",
       "      <td>6s22t5Y3prQHyaHWUN1R1C</td>\n",
       "    </tr>\n",
       "    <tr>\n",
       "      <th>2427</th>\n",
       "      <td>AJR</td>\n",
       "      <td>Bang!</td>\n",
       "      <td>5FQPpxOXsvkMN6v18gtpwY</td>\n",
       "      <td>68</td>\n",
       "      <td>6s22t5Y3prQHyaHWUN1R1C</td>\n",
       "    </tr>\n",
       "    <tr>\n",
       "      <th>1839</th>\n",
       "      <td>AJR</td>\n",
       "      <td>Bang!</td>\n",
       "      <td>5FQPpxOXsvkMN6v18gtpwY</td>\n",
       "      <td>68</td>\n",
       "      <td>6s22t5Y3prQHyaHWUN1R1C</td>\n",
       "    </tr>\n",
       "    <tr>\n",
       "      <th>2280</th>\n",
       "      <td>AJR</td>\n",
       "      <td>Bang!</td>\n",
       "      <td>5FQPpxOXsvkMN6v18gtpwY</td>\n",
       "      <td>68</td>\n",
       "      <td>6s22t5Y3prQHyaHWUN1R1C</td>\n",
       "    </tr>\n",
       "    <tr>\n",
       "      <th>...</th>\n",
       "      <td>...</td>\n",
       "      <td>...</td>\n",
       "      <td>...</td>\n",
       "      <td>...</td>\n",
       "      <td>...</td>\n",
       "    </tr>\n",
       "    <tr>\n",
       "      <th>652</th>\n",
       "      <td>INTERWORLD</td>\n",
       "      <td>METAMORPHOSIS</td>\n",
       "      <td>2ksyzVfU0WJoBpu8otr4pz</td>\n",
       "      <td>85</td>\n",
       "      <td>5hKGLu4Ik88FzWcTPhWNTN</td>\n",
       "    </tr>\n",
       "    <tr>\n",
       "      <th>64</th>\n",
       "      <td>INTERWORLD</td>\n",
       "      <td>METAMORPHOSIS</td>\n",
       "      <td>2ksyzVfU0WJoBpu8otr4pz</td>\n",
       "      <td>85</td>\n",
       "      <td>5hKGLu4Ik88FzWcTPhWNTN</td>\n",
       "    </tr>\n",
       "    <tr>\n",
       "      <th>407</th>\n",
       "      <td>INTERWORLD</td>\n",
       "      <td>METAMORPHOSIS</td>\n",
       "      <td>2ksyzVfU0WJoBpu8otr4pz</td>\n",
       "      <td>85</td>\n",
       "      <td>5hKGLu4Ik88FzWcTPhWNTN</td>\n",
       "    </tr>\n",
       "    <tr>\n",
       "      <th>505</th>\n",
       "      <td>INTERWORLD</td>\n",
       "      <td>METAMORPHOSIS</td>\n",
       "      <td>2ksyzVfU0WJoBpu8otr4pz</td>\n",
       "      <td>85</td>\n",
       "      <td>5hKGLu4Ik88FzWcTPhWNTN</td>\n",
       "    </tr>\n",
       "    <tr>\n",
       "      <th>0</th>\n",
       "      <td>Tory Lanez</td>\n",
       "      <td>The Color Violet</td>\n",
       "      <td>3azJifCSqg9fRij2yKIbWz</td>\n",
       "      <td>85</td>\n",
       "      <td>2jku7tDXc6XoB6MO2hFuqg</td>\n",
       "    </tr>\n",
       "  </tbody>\n",
       "</table>\n",
       "<p>2500 rows × 5 columns</p>\n",
       "</div>"
      ],
      "text/plain": [
       "       artist_name                track_name                track_id  \\\n",
       "2499  Jason Aldean  That's What Tequila Does  6kCFt2ATuMIE5H9zVEJXei   \n",
       "1398           AJR                     Bang!  5FQPpxOXsvkMN6v18gtpwY   \n",
       "2427           AJR                     Bang!  5FQPpxOXsvkMN6v18gtpwY   \n",
       "1839           AJR                     Bang!  5FQPpxOXsvkMN6v18gtpwY   \n",
       "2280           AJR                     Bang!  5FQPpxOXsvkMN6v18gtpwY   \n",
       "...            ...                       ...                     ...   \n",
       "652     INTERWORLD             METAMORPHOSIS  2ksyzVfU0WJoBpu8otr4pz   \n",
       "64      INTERWORLD             METAMORPHOSIS  2ksyzVfU0WJoBpu8otr4pz   \n",
       "407     INTERWORLD             METAMORPHOSIS  2ksyzVfU0WJoBpu8otr4pz   \n",
       "505     INTERWORLD             METAMORPHOSIS  2ksyzVfU0WJoBpu8otr4pz   \n",
       "0       Tory Lanez          The Color Violet  3azJifCSqg9fRij2yKIbWz   \n",
       "\n",
       "      track_popularity               artist_id  \n",
       "2499                68  3FfvYsEGaIb52QPXhg4DcH  \n",
       "1398                68  6s22t5Y3prQHyaHWUN1R1C  \n",
       "2427                68  6s22t5Y3prQHyaHWUN1R1C  \n",
       "1839                68  6s22t5Y3prQHyaHWUN1R1C  \n",
       "2280                68  6s22t5Y3prQHyaHWUN1R1C  \n",
       "...                ...                     ...  \n",
       "652                 85  5hKGLu4Ik88FzWcTPhWNTN  \n",
       "64                  85  5hKGLu4Ik88FzWcTPhWNTN  \n",
       "407                 85  5hKGLu4Ik88FzWcTPhWNTN  \n",
       "505                 85  5hKGLu4Ik88FzWcTPhWNTN  \n",
       "0                   85  2jku7tDXc6XoB6MO2hFuqg  \n",
       "\n",
       "[2500 rows x 5 columns]"
      ]
     },
     "execution_count": 17,
     "metadata": {},
     "output_type": "execute_result"
    }
   ],
   "source": [
    "track_df.sort_values(by=['track_popularity'])"
   ]
  },
  {
   "cell_type": "code",
   "execution_count": 10,
   "metadata": {},
   "outputs": [
    {
     "name": "stderr",
     "output_type": "stream",
     "text": [
      "HTTP Error for GET to https://api.spotify.com/v1/me/top/artists with Params: {'time_range': 'medium_term', 'limit': 20, 'offset': 0} returned 403 due to None\n"
     ]
    },
    {
     "ename": "SpotifyException",
     "evalue": "http status: 403, code:-1 - https://api.spotify.com/v1/me/top/artists?time_range=medium_term&limit=20&offset=0:\n None, reason: None",
     "output_type": "error",
     "traceback": [
      "\u001b[0;31m---------------------------------------------------------------------------\u001b[0m",
      "\u001b[0;31mHTTPError\u001b[0m                                 Traceback (most recent call last)",
      "File \u001b[0;32m~/opt/anaconda3/lib/python3.9/site-packages/spotipy/client.py:269\u001b[0m, in \u001b[0;36mSpotify._internal_call\u001b[0;34m(self, method, url, payload, params)\u001b[0m\n\u001b[1;32m    264\u001b[0m response \u001b[39m=\u001b[39m \u001b[39mself\u001b[39m\u001b[39m.\u001b[39m_session\u001b[39m.\u001b[39mrequest(\n\u001b[1;32m    265\u001b[0m     method, url, headers\u001b[39m=\u001b[39mheaders, proxies\u001b[39m=\u001b[39m\u001b[39mself\u001b[39m\u001b[39m.\u001b[39mproxies,\n\u001b[1;32m    266\u001b[0m     timeout\u001b[39m=\u001b[39m\u001b[39mself\u001b[39m\u001b[39m.\u001b[39mrequests_timeout, \u001b[39m*\u001b[39m\u001b[39m*\u001b[39margs\n\u001b[1;32m    267\u001b[0m )\n\u001b[0;32m--> 269\u001b[0m response\u001b[39m.\u001b[39;49mraise_for_status()\n\u001b[1;32m    270\u001b[0m results \u001b[39m=\u001b[39m response\u001b[39m.\u001b[39mjson()\n",
      "File \u001b[0;32m~/opt/anaconda3/lib/python3.9/site-packages/requests/models.py:960\u001b[0m, in \u001b[0;36mResponse.raise_for_status\u001b[0;34m(self)\u001b[0m\n\u001b[1;32m    959\u001b[0m \u001b[39mif\u001b[39;00m http_error_msg:\n\u001b[0;32m--> 960\u001b[0m     \u001b[39mraise\u001b[39;00m HTTPError(http_error_msg, response\u001b[39m=\u001b[39m\u001b[39mself\u001b[39m)\n",
      "\u001b[0;31mHTTPError\u001b[0m: 403 Client Error: Forbidden for url: https://api.spotify.com/v1/me/top/artists?time_range=medium_term&limit=20&offset=0",
      "\nDuring handling of the above exception, another exception occurred:\n",
      "\u001b[0;31mSpotifyException\u001b[0m                          Traceback (most recent call last)",
      "\u001b[1;32m/Users/alif/Documents/code/Python_OOP/Lab/Spotify/main.ipynb Cell 8\u001b[0m in \u001b[0;36m<cell line: 1>\u001b[0;34m()\u001b[0m\n\u001b[0;32m----> <a href='vscode-notebook-cell:/Users/alif/Documents/code/Python_OOP/Lab/Spotify/main.ipynb#X11sZmlsZQ%3D%3D?line=0'>1</a>\u001b[0m data \u001b[39m=\u001b[39m sp\u001b[39m.\u001b[39;49mcurrent_user_top_artists(limit\u001b[39m=\u001b[39;49m\u001b[39m20\u001b[39;49m, offset\u001b[39m=\u001b[39;49m\u001b[39m0\u001b[39;49m, time_range\u001b[39m=\u001b[39;49m\u001b[39m'\u001b[39;49m\u001b[39mmedium_term\u001b[39;49m\u001b[39m'\u001b[39;49m)\n",
      "File \u001b[0;32m~/opt/anaconda3/lib/python3.9/site-packages/spotipy/client.py:1465\u001b[0m, in \u001b[0;36mSpotify.current_user_top_artists\u001b[0;34m(self, limit, offset, time_range)\u001b[0m\n\u001b[1;32m   1454\u001b[0m \u001b[39mdef\u001b[39;00m \u001b[39mcurrent_user_top_artists\u001b[39m(\n\u001b[1;32m   1455\u001b[0m     \u001b[39mself\u001b[39m, limit\u001b[39m=\u001b[39m\u001b[39m20\u001b[39m, offset\u001b[39m=\u001b[39m\u001b[39m0\u001b[39m, time_range\u001b[39m=\u001b[39m\u001b[39m\"\u001b[39m\u001b[39mmedium_term\u001b[39m\u001b[39m\"\u001b[39m\n\u001b[1;32m   1456\u001b[0m ):\n\u001b[1;32m   1457\u001b[0m     \u001b[39m\"\"\" Get the current user's top artists\u001b[39;00m\n\u001b[1;32m   1458\u001b[0m \n\u001b[1;32m   1459\u001b[0m \u001b[39m        Parameters:\u001b[39;00m\n\u001b[0;32m   (...)\u001b[0m\n\u001b[1;32m   1463\u001b[0m \u001b[39m              Valid-values: short_term, medium_term, long_term\u001b[39;00m\n\u001b[1;32m   1464\u001b[0m \u001b[39m    \"\"\"\u001b[39;00m\n\u001b[0;32m-> 1465\u001b[0m     \u001b[39mreturn\u001b[39;00m \u001b[39mself\u001b[39;49m\u001b[39m.\u001b[39;49m_get(\n\u001b[1;32m   1466\u001b[0m         \u001b[39m\"\u001b[39;49m\u001b[39mme/top/artists\u001b[39;49m\u001b[39m\"\u001b[39;49m, time_range\u001b[39m=\u001b[39;49mtime_range, limit\u001b[39m=\u001b[39;49mlimit, offset\u001b[39m=\u001b[39;49moffset\n\u001b[1;32m   1467\u001b[0m     )\n",
      "File \u001b[0;32m~/opt/anaconda3/lib/python3.9/site-packages/spotipy/client.py:321\u001b[0m, in \u001b[0;36mSpotify._get\u001b[0;34m(self, url, args, payload, **kwargs)\u001b[0m\n\u001b[1;32m    318\u001b[0m \u001b[39mif\u001b[39;00m args:\n\u001b[1;32m    319\u001b[0m     kwargs\u001b[39m.\u001b[39mupdate(args)\n\u001b[0;32m--> 321\u001b[0m \u001b[39mreturn\u001b[39;00m \u001b[39mself\u001b[39;49m\u001b[39m.\u001b[39;49m_internal_call(\u001b[39m\"\u001b[39;49m\u001b[39mGET\u001b[39;49m\u001b[39m\"\u001b[39;49m, url, payload, kwargs)\n",
      "File \u001b[0;32m~/opt/anaconda3/lib/python3.9/site-packages/spotipy/client.py:291\u001b[0m, in \u001b[0;36mSpotify._internal_call\u001b[0;34m(self, method, url, payload, params)\u001b[0m\n\u001b[1;32m    284\u001b[0m         reason \u001b[39m=\u001b[39m \u001b[39mNone\u001b[39;00m\n\u001b[1;32m    286\u001b[0m     logger\u001b[39m.\u001b[39merror(\n\u001b[1;32m    287\u001b[0m         \u001b[39m'\u001b[39m\u001b[39mHTTP Error for \u001b[39m\u001b[39m%s\u001b[39;00m\u001b[39m to \u001b[39m\u001b[39m%s\u001b[39;00m\u001b[39m with Params: \u001b[39m\u001b[39m%s\u001b[39;00m\u001b[39m returned \u001b[39m\u001b[39m%s\u001b[39;00m\u001b[39m due to \u001b[39m\u001b[39m%s\u001b[39;00m\u001b[39m'\u001b[39m,\n\u001b[1;32m    288\u001b[0m         method, url, args\u001b[39m.\u001b[39mget(\u001b[39m\"\u001b[39m\u001b[39mparams\u001b[39m\u001b[39m\"\u001b[39m), response\u001b[39m.\u001b[39mstatus_code, msg\n\u001b[1;32m    289\u001b[0m     )\n\u001b[0;32m--> 291\u001b[0m     \u001b[39mraise\u001b[39;00m SpotifyException(\n\u001b[1;32m    292\u001b[0m         response\u001b[39m.\u001b[39mstatus_code,\n\u001b[1;32m    293\u001b[0m         \u001b[39m-\u001b[39m\u001b[39m1\u001b[39m,\n\u001b[1;32m    294\u001b[0m         \u001b[39m\"\u001b[39m\u001b[39m%s\u001b[39;00m\u001b[39m:\u001b[39m\u001b[39m\\n\u001b[39;00m\u001b[39m \u001b[39m\u001b[39m%s\u001b[39;00m\u001b[39m\"\u001b[39m \u001b[39m%\u001b[39m (response\u001b[39m.\u001b[39murl, msg),\n\u001b[1;32m    295\u001b[0m         reason\u001b[39m=\u001b[39mreason,\n\u001b[1;32m    296\u001b[0m         headers\u001b[39m=\u001b[39mresponse\u001b[39m.\u001b[39mheaders,\n\u001b[1;32m    297\u001b[0m     )\n\u001b[1;32m    298\u001b[0m \u001b[39mexcept\u001b[39;00m requests\u001b[39m.\u001b[39mexceptions\u001b[39m.\u001b[39mRetryError \u001b[39mas\u001b[39;00m retry_error:\n\u001b[1;32m    299\u001b[0m     request \u001b[39m=\u001b[39m retry_error\u001b[39m.\u001b[39mrequest\n",
      "\u001b[0;31mSpotifyException\u001b[0m: http status: 403, code:-1 - https://api.spotify.com/v1/me/top/artists?time_range=medium_term&limit=20&offset=0:\n None, reason: None"
     ]
    }
   ],
   "source": [
    "data = sp.current_user_top_artists(limit=20, offset=0, time_range='medium_term')"
   ]
  },
  {
   "cell_type": "code",
   "execution_count": 5,
   "metadata": {},
   "outputs": [
    {
     "ename": "NameError",
     "evalue": "name 'data' is not defined",
     "output_type": "error",
     "traceback": [
      "\u001b[0;31m---------------------------------------------------------------------------\u001b[0m",
      "\u001b[0;31mNameError\u001b[0m                                 Traceback (most recent call last)",
      "\u001b[1;32m/Users/alif/Documents/code/Python_OOP/Lab/Spotify/main.ipynb Cell 9\u001b[0m in \u001b[0;36m<cell line: 1>\u001b[0;34m()\u001b[0m\n\u001b[0;32m----> <a href='vscode-notebook-cell:/Users/alif/Documents/code/Python_OOP/Lab/Spotify/main.ipynb#X12sZmlsZQ%3D%3D?line=0'>1</a>\u001b[0m data\n",
      "\u001b[0;31mNameError\u001b[0m: name 'data' is not defined"
     ]
    }
   ],
   "source": [
    "data"
   ]
  },
  {
   "cell_type": "code",
   "execution_count": 18,
   "metadata": {},
   "outputs": [
    {
     "name": "stderr",
     "output_type": "stream",
     "text": [
      "/var/folders/mn/lm63_61x1dd3d9np6r72q6kw0000gn/T/ipykernel_96102/655163740.py:1: DeprecationWarning: You're using 'as_dict = True'.get_access_token will return the token string directly in future versions. Please adjust your code accordingly, or use get_cached_token instead.\n",
      "  access_token = client_credentials_manager.get_access_token()['access_token']\n"
     ]
    }
   ],
   "source": [
    "access_token = client_credentials_manager.get_access_token()['access_token']"
   ]
  },
  {
   "cell_type": "code",
   "execution_count": 20,
   "metadata": {},
   "outputs": [
    {
     "name": "stderr",
     "output_type": "stream",
     "text": [
      "HTTP Error for GET to https://api.spotify.com/v1/me/top/artists with Params: {'time_range': 'medium_term', 'limit': 20, 'offset': 0} returned 403 due to None\n"
     ]
    },
    {
     "ename": "SpotifyOauthError",
     "evalue": "error: invalid_grant, error_description: Invalid refresh token",
     "output_type": "error",
     "traceback": [
      "\u001b[0;31m---------------------------------------------------------------------------\u001b[0m",
      "\u001b[0;31mHTTPError\u001b[0m                                 Traceback (most recent call last)",
      "File \u001b[0;32m~/opt/anaconda3/lib/python3.9/site-packages/spotipy/client.py:269\u001b[0m, in \u001b[0;36mSpotify._internal_call\u001b[0;34m(self, method, url, payload, params)\u001b[0m\n\u001b[1;32m    264\u001b[0m response \u001b[39m=\u001b[39m \u001b[39mself\u001b[39m\u001b[39m.\u001b[39m_session\u001b[39m.\u001b[39mrequest(\n\u001b[1;32m    265\u001b[0m     method, url, headers\u001b[39m=\u001b[39mheaders, proxies\u001b[39m=\u001b[39m\u001b[39mself\u001b[39m\u001b[39m.\u001b[39mproxies,\n\u001b[1;32m    266\u001b[0m     timeout\u001b[39m=\u001b[39m\u001b[39mself\u001b[39m\u001b[39m.\u001b[39mrequests_timeout, \u001b[39m*\u001b[39m\u001b[39m*\u001b[39margs\n\u001b[1;32m    267\u001b[0m )\n\u001b[0;32m--> 269\u001b[0m response\u001b[39m.\u001b[39;49mraise_for_status()\n\u001b[1;32m    270\u001b[0m results \u001b[39m=\u001b[39m response\u001b[39m.\u001b[39mjson()\n",
      "File \u001b[0;32m~/opt/anaconda3/lib/python3.9/site-packages/requests/models.py:960\u001b[0m, in \u001b[0;36mResponse.raise_for_status\u001b[0;34m(self)\u001b[0m\n\u001b[1;32m    959\u001b[0m \u001b[39mif\u001b[39;00m http_error_msg:\n\u001b[0;32m--> 960\u001b[0m     \u001b[39mraise\u001b[39;00m HTTPError(http_error_msg, response\u001b[39m=\u001b[39m\u001b[39mself\u001b[39m)\n",
      "\u001b[0;31mHTTPError\u001b[0m: 403 Client Error: Forbidden for url: https://api.spotify.com/v1/me/top/artists?time_range=medium_term&limit=20&offset=0",
      "\nDuring handling of the above exception, another exception occurred:\n",
      "\u001b[0;31mSpotifyException\u001b[0m                          Traceback (most recent call last)",
      "\u001b[1;32m/Users/alif/Documents/code/Python_OOP/Lab/Spotify/main.ipynb Cell 11\u001b[0m in \u001b[0;36m<cell line: 1>\u001b[0;34m()\u001b[0m\n\u001b[1;32m      <a href='vscode-notebook-cell:/Users/alif/Documents/code/Python_OOP/Lab/Spotify/main.ipynb#X13sZmlsZQ%3D%3D?line=0'>1</a>\u001b[0m \u001b[39mtry\u001b[39;00m:\n\u001b[0;32m----> <a href='vscode-notebook-cell:/Users/alif/Documents/code/Python_OOP/Lab/Spotify/main.ipynb#X13sZmlsZQ%3D%3D?line=1'>2</a>\u001b[0m     data \u001b[39m=\u001b[39m sp\u001b[39m.\u001b[39;49mcurrent_user_top_artists(limit\u001b[39m=\u001b[39;49m\u001b[39m20\u001b[39;49m, offset\u001b[39m=\u001b[39;49m\u001b[39m0\u001b[39;49m, time_range\u001b[39m=\u001b[39;49m\u001b[39m'\u001b[39;49m\u001b[39mmedium_term\u001b[39;49m\u001b[39m'\u001b[39;49m)\n\u001b[1;32m      <a href='vscode-notebook-cell:/Users/alif/Documents/code/Python_OOP/Lab/Spotify/main.ipynb#X13sZmlsZQ%3D%3D?line=2'>3</a>\u001b[0m     \u001b[39mprint\u001b[39m(data)\n",
      "File \u001b[0;32m~/opt/anaconda3/lib/python3.9/site-packages/spotipy/client.py:1465\u001b[0m, in \u001b[0;36mSpotify.current_user_top_artists\u001b[0;34m(self, limit, offset, time_range)\u001b[0m\n\u001b[1;32m   1457\u001b[0m \u001b[39m\"\"\" Get the current user's top artists\u001b[39;00m\n\u001b[1;32m   1458\u001b[0m \n\u001b[1;32m   1459\u001b[0m \u001b[39m    Parameters:\u001b[39;00m\n\u001b[0;32m   (...)\u001b[0m\n\u001b[1;32m   1463\u001b[0m \u001b[39m          Valid-values: short_term, medium_term, long_term\u001b[39;00m\n\u001b[1;32m   1464\u001b[0m \u001b[39m\"\"\"\u001b[39;00m\n\u001b[0;32m-> 1465\u001b[0m \u001b[39mreturn\u001b[39;00m \u001b[39mself\u001b[39;49m\u001b[39m.\u001b[39;49m_get(\n\u001b[1;32m   1466\u001b[0m     \u001b[39m\"\u001b[39;49m\u001b[39mme/top/artists\u001b[39;49m\u001b[39m\"\u001b[39;49m, time_range\u001b[39m=\u001b[39;49mtime_range, limit\u001b[39m=\u001b[39;49mlimit, offset\u001b[39m=\u001b[39;49moffset\n\u001b[1;32m   1467\u001b[0m )\n",
      "File \u001b[0;32m~/opt/anaconda3/lib/python3.9/site-packages/spotipy/client.py:321\u001b[0m, in \u001b[0;36mSpotify._get\u001b[0;34m(self, url, args, payload, **kwargs)\u001b[0m\n\u001b[1;32m    319\u001b[0m     kwargs\u001b[39m.\u001b[39mupdate(args)\n\u001b[0;32m--> 321\u001b[0m \u001b[39mreturn\u001b[39;00m \u001b[39mself\u001b[39;49m\u001b[39m.\u001b[39;49m_internal_call(\u001b[39m\"\u001b[39;49m\u001b[39mGET\u001b[39;49m\u001b[39m\"\u001b[39;49m, url, payload, kwargs)\n",
      "File \u001b[0;32m~/opt/anaconda3/lib/python3.9/site-packages/spotipy/client.py:291\u001b[0m, in \u001b[0;36mSpotify._internal_call\u001b[0;34m(self, method, url, payload, params)\u001b[0m\n\u001b[1;32m    286\u001b[0m     logger\u001b[39m.\u001b[39merror(\n\u001b[1;32m    287\u001b[0m         \u001b[39m'\u001b[39m\u001b[39mHTTP Error for \u001b[39m\u001b[39m%s\u001b[39;00m\u001b[39m to \u001b[39m\u001b[39m%s\u001b[39;00m\u001b[39m with Params: \u001b[39m\u001b[39m%s\u001b[39;00m\u001b[39m returned \u001b[39m\u001b[39m%s\u001b[39;00m\u001b[39m due to \u001b[39m\u001b[39m%s\u001b[39;00m\u001b[39m'\u001b[39m,\n\u001b[1;32m    288\u001b[0m         method, url, args\u001b[39m.\u001b[39mget(\u001b[39m\"\u001b[39m\u001b[39mparams\u001b[39m\u001b[39m\"\u001b[39m), response\u001b[39m.\u001b[39mstatus_code, msg\n\u001b[1;32m    289\u001b[0m     )\n\u001b[0;32m--> 291\u001b[0m     \u001b[39mraise\u001b[39;00m SpotifyException(\n\u001b[1;32m    292\u001b[0m         response\u001b[39m.\u001b[39mstatus_code,\n\u001b[1;32m    293\u001b[0m         \u001b[39m-\u001b[39m\u001b[39m1\u001b[39m,\n\u001b[1;32m    294\u001b[0m         \u001b[39m\"\u001b[39m\u001b[39m%s\u001b[39;00m\u001b[39m:\u001b[39m\u001b[39m\\n\u001b[39;00m\u001b[39m \u001b[39m\u001b[39m%s\u001b[39;00m\u001b[39m\"\u001b[39m \u001b[39m%\u001b[39m (response\u001b[39m.\u001b[39murl, msg),\n\u001b[1;32m    295\u001b[0m         reason\u001b[39m=\u001b[39mreason,\n\u001b[1;32m    296\u001b[0m         headers\u001b[39m=\u001b[39mresponse\u001b[39m.\u001b[39mheaders,\n\u001b[1;32m    297\u001b[0m     )\n\u001b[1;32m    298\u001b[0m \u001b[39mexcept\u001b[39;00m requests\u001b[39m.\u001b[39mexceptions\u001b[39m.\u001b[39mRetryError \u001b[39mas\u001b[39;00m retry_error:\n",
      "\u001b[0;31mSpotifyException\u001b[0m: http status: 403, code:-1 - https://api.spotify.com/v1/me/top/artists?time_range=medium_term&limit=20&offset=0:\n None, reason: None",
      "\nDuring handling of the above exception, another exception occurred:\n",
      "\u001b[0;31mHTTPError\u001b[0m                                 Traceback (most recent call last)",
      "File \u001b[0;32m~/opt/anaconda3/lib/python3.9/site-packages/spotipy/oauth2.py:588\u001b[0m, in \u001b[0;36mSpotifyOAuth.refresh_access_token\u001b[0;34m(self, refresh_token)\u001b[0m\n\u001b[1;32m    581\u001b[0m response \u001b[39m=\u001b[39m \u001b[39mself\u001b[39m\u001b[39m.\u001b[39m_session\u001b[39m.\u001b[39mpost(\n\u001b[1;32m    582\u001b[0m     \u001b[39mself\u001b[39m\u001b[39m.\u001b[39mOAUTH_TOKEN_URL,\n\u001b[1;32m    583\u001b[0m     data\u001b[39m=\u001b[39mpayload,\n\u001b[0;32m   (...)\u001b[0m\n\u001b[1;32m    586\u001b[0m     timeout\u001b[39m=\u001b[39m\u001b[39mself\u001b[39m\u001b[39m.\u001b[39mrequests_timeout,\n\u001b[1;32m    587\u001b[0m )\n\u001b[0;32m--> 588\u001b[0m response\u001b[39m.\u001b[39;49mraise_for_status()\n\u001b[1;32m    589\u001b[0m token_info \u001b[39m=\u001b[39m response\u001b[39m.\u001b[39mjson()\n",
      "File \u001b[0;32m~/opt/anaconda3/lib/python3.9/site-packages/requests/models.py:960\u001b[0m, in \u001b[0;36mResponse.raise_for_status\u001b[0;34m(self)\u001b[0m\n\u001b[1;32m    959\u001b[0m \u001b[39mif\u001b[39;00m http_error_msg:\n\u001b[0;32m--> 960\u001b[0m     \u001b[39mraise\u001b[39;00m HTTPError(http_error_msg, response\u001b[39m=\u001b[39m\u001b[39mself\u001b[39m)\n",
      "\u001b[0;31mHTTPError\u001b[0m: 400 Client Error: Bad Request for url: https://accounts.spotify.com/api/token",
      "\nDuring handling of the above exception, another exception occurred:\n",
      "\u001b[0;31mSpotifyOauthError\u001b[0m                         Traceback (most recent call last)",
      "\u001b[1;32m/Users/alif/Documents/code/Python_OOP/Lab/Spotify/main.ipynb Cell 11\u001b[0m in \u001b[0;36m<cell line: 1>\u001b[0;34m()\u001b[0m\n\u001b[1;32m      <a href='vscode-notebook-cell:/Users/alif/Documents/code/Python_OOP/Lab/Spotify/main.ipynb#X13sZmlsZQ%3D%3D?line=3'>4</a>\u001b[0m \u001b[39mexcept\u001b[39;00m spotipy\u001b[39m.\u001b[39mSpotifyException \u001b[39mas\u001b[39;00m e:\n\u001b[1;32m      <a href='vscode-notebook-cell:/Users/alif/Documents/code/Python_OOP/Lab/Spotify/main.ipynb#X13sZmlsZQ%3D%3D?line=4'>5</a>\u001b[0m     \u001b[39mif\u001b[39;00m e\u001b[39m.\u001b[39mhttp_status \u001b[39m==\u001b[39m \u001b[39m403\u001b[39m:\n\u001b[1;32m      <a href='vscode-notebook-cell:/Users/alif/Documents/code/Python_OOP/Lab/Spotify/main.ipynb#X13sZmlsZQ%3D%3D?line=5'>6</a>\u001b[0m         \u001b[39m# Access token has expired, refresh it and try again\u001b[39;00m\n\u001b[0;32m----> <a href='vscode-notebook-cell:/Users/alif/Documents/code/Python_OOP/Lab/Spotify/main.ipynb#X13sZmlsZQ%3D%3D?line=6'>7</a>\u001b[0m         access_token \u001b[39m=\u001b[39m client_credentials_manager\u001b[39m.\u001b[39;49mrefresh_access_token(refresh_token\u001b[39m=\u001b[39;49maccess_token)[\u001b[39m'\u001b[39m\u001b[39maccess_token\u001b[39m\u001b[39m'\u001b[39m]\n\u001b[1;32m      <a href='vscode-notebook-cell:/Users/alif/Documents/code/Python_OOP/Lab/Spotify/main.ipynb#X13sZmlsZQ%3D%3D?line=7'>8</a>\u001b[0m         sp \u001b[39m=\u001b[39m spotipy\u001b[39m.\u001b[39mSpotify(auth\u001b[39m=\u001b[39maccess_token)\n\u001b[1;32m      <a href='vscode-notebook-cell:/Users/alif/Documents/code/Python_OOP/Lab/Spotify/main.ipynb#X13sZmlsZQ%3D%3D?line=8'>9</a>\u001b[0m         data \u001b[39m=\u001b[39m sp\u001b[39m.\u001b[39mcurrent_user_top_artists(limit\u001b[39m=\u001b[39m\u001b[39m20\u001b[39m, offset\u001b[39m=\u001b[39m\u001b[39m0\u001b[39m, time_range\u001b[39m=\u001b[39m\u001b[39m'\u001b[39m\u001b[39mmedium_term\u001b[39m\u001b[39m'\u001b[39m)\n",
      "File \u001b[0;32m~/opt/anaconda3/lib/python3.9/site-packages/spotipy/oauth2.py:596\u001b[0m, in \u001b[0;36mSpotifyOAuth.refresh_access_token\u001b[0;34m(self, refresh_token)\u001b[0m\n\u001b[1;32m    594\u001b[0m     \u001b[39mreturn\u001b[39;00m token_info\n\u001b[1;32m    595\u001b[0m \u001b[39mexcept\u001b[39;00m requests\u001b[39m.\u001b[39mexceptions\u001b[39m.\u001b[39mHTTPError \u001b[39mas\u001b[39;00m http_error:\n\u001b[0;32m--> 596\u001b[0m     \u001b[39mself\u001b[39;49m\u001b[39m.\u001b[39;49m_handle_oauth_error(http_error)\n",
      "File \u001b[0;32m~/opt/anaconda3/lib/python3.9/site-packages/spotipy/oauth2.py:146\u001b[0m, in \u001b[0;36mSpotifyAuthBase._handle_oauth_error\u001b[0;34m(self, http_error)\u001b[0m\n\u001b[1;32m    143\u001b[0m     error \u001b[39m=\u001b[39m response\u001b[39m.\u001b[39mtext \u001b[39mor\u001b[39;00m \u001b[39mNone\u001b[39;00m\n\u001b[1;32m    144\u001b[0m     error_description \u001b[39m=\u001b[39m \u001b[39mNone\u001b[39;00m\n\u001b[0;32m--> 146\u001b[0m \u001b[39mraise\u001b[39;00m SpotifyOauthError(\n\u001b[1;32m    147\u001b[0m     \u001b[39m'\u001b[39m\u001b[39merror: \u001b[39m\u001b[39m{0}\u001b[39;00m\u001b[39m, error_description: \u001b[39m\u001b[39m{1}\u001b[39;00m\u001b[39m'\u001b[39m\u001b[39m.\u001b[39mformat(\n\u001b[1;32m    148\u001b[0m         error, error_description\n\u001b[1;32m    149\u001b[0m     ),\n\u001b[1;32m    150\u001b[0m     error\u001b[39m=\u001b[39merror,\n\u001b[1;32m    151\u001b[0m     error_description\u001b[39m=\u001b[39merror_description\n\u001b[1;32m    152\u001b[0m )\n",
      "\u001b[0;31mSpotifyOauthError\u001b[0m: error: invalid_grant, error_description: Invalid refresh token"
     ]
    }
   ],
   "source": [
    "try:\n",
    "    data = sp.current_user_top_artists(limit=20, offset=0, time_range='medium_term')\n",
    "    print(data)\n",
    "except spotipy.SpotifyException as e:\n",
    "    if e.http_status == 403:\n",
    "        # Access token has expired, refresh it and try again\n",
    "        access_token = client_credentials_manager.refresh_access_token(refresh_token=access_token)['access_token']\n",
    "        sp = spotipy.Spotify(auth=access_token)\n",
    "        data = sp.current_user_top_artists(limit=20, offset=0, time_range='medium_term')\n",
    "        print(data)\n",
    "    else:\n",
    "        raise e"
   ]
  }
 ],
 "metadata": {
  "kernelspec": {
   "display_name": "base",
   "language": "python",
   "name": "python3"
  },
  "language_info": {
   "codemirror_mode": {
    "name": "ipython",
    "version": 3
   },
   "file_extension": ".py",
   "mimetype": "text/x-python",
   "name": "python",
   "nbconvert_exporter": "python",
   "pygments_lexer": "ipython3",
   "version": "3.9.12"
  },
  "orig_nbformat": 4,
  "vscode": {
   "interpreter": {
    "hash": "0cfc1728641f183fe595220e33e4148b393a2845725d461660e9f82cc25b4efb"
   }
  }
 },
 "nbformat": 4,
 "nbformat_minor": 2
}
